{
 "cells": [
  {
   "cell_type": "code",
   "execution_count": 1,
   "id": "9b59b984-8439-4d27-82dd-92dd57ce16e2",
   "metadata": {},
   "outputs": [],
   "source": [
    "import pytesseract\n",
    "pytesseract.pytesseract.tesseract_cmd=r'C:\\Program Files\\Tesseract-OCR\\tesseract.exe'"
   ]
  },
  {
   "cell_type": "code",
   "execution_count": 2,
   "id": "a9825f6d-35b5-4908-91e7-b330e68393f3",
   "metadata": {},
   "outputs": [],
   "source": [
    "import cv2"
   ]
  },
  {
   "cell_type": "code",
   "execution_count": 3,
   "id": "f69ee8b1-262c-4de8-9fcb-b018f3fafb85",
   "metadata": {},
   "outputs": [],
   "source": [
    "img=cv2.imread('01.jpg')"
   ]
  },
  {
   "cell_type": "code",
   "execution_count": 4,
   "id": "30ede1cf-51d6-4aef-ad7e-93a74ad2b3b9",
   "metadata": {},
   "outputs": [
    {
     "name": "stdout",
     "output_type": "stream",
     "text": [
      "An amazing thing happens when you\n",
      "get honest with yourself and start\n",
      "doing what you love, what makes you\n",
      "happy. Your life literally slows\n",
      "down. You stop wishing for the\n",
      "weekend. You stop merely looking\n",
      "forward to special events. You begin\n",
      "to live in each moment and you start\n",
      "feeling like a human being. You just\n",
      "ride the wave that is life, with\n",
      "this feeling of contentment and joy.\n",
      "You move fluidly, steadily, calm and\n",
      "grateful. A veil is lifted, anda\n",
      "whole new perspective is born.\n",
      "\n",
      "\n"
     ]
    }
   ],
   "source": [
    "text=pytesseract.image_to_string(img)\n",
    "print(text)"
   ]
  },
  {
   "cell_type": "code",
   "execution_count": null,
   "id": "a58361e0-7c9d-4ddd-bfe9-eb4fac17e8e4",
   "metadata": {},
   "outputs": [],
   "source": []
  }
 ],
 "metadata": {
  "kernelspec": {
   "display_name": "Python 3 (ipykernel)",
   "language": "python",
   "name": "python3"
  },
  "language_info": {
   "codemirror_mode": {
    "name": "ipython",
    "version": 3
   },
   "file_extension": ".py",
   "mimetype": "text/x-python",
   "name": "python",
   "nbconvert_exporter": "python",
   "pygments_lexer": "ipython3",
   "version": "3.12.7"
  }
 },
 "nbformat": 4,
 "nbformat_minor": 5
}
